{
 "cells": [
  {
   "cell_type": "code",
   "execution_count": 88,
   "id": "85bc98a2-338b-4ea0-9eb9-457f9a351d08",
   "metadata": {},
   "outputs": [],
   "source": [
    "import matplotlib.pyplot as plt\n",
    "import numpy as np\n",
    "from math import pi\n",
    "\n",
    "from qiskit import QuantumCircuit, ClassicalRegister, QuantumRegister, transpile\n",
    "from qiskit.tools.visualization import circuit_drawer,plot_histogram\n",
    "from qiskit.quantum_info import state_fidelity\n",
    "from qiskit import BasicAer"
   ]
  },
  {
   "cell_type": "code",
   "execution_count": 2,
   "id": "8eb02fcc-ae1a-4f9f-b5a8-dd4745d0e48b",
   "metadata": {},
   "outputs": [],
   "source": [
    "backend = BasicAer.get_backend('unitary_simulator')"
   ]
  },
  {
   "cell_type": "code",
   "execution_count": 3,
   "id": "8facf99d-ecce-47d5-b2d9-4302d14f2d74",
   "metadata": {},
   "outputs": [],
   "source": [
    "q = QuantumRegister(1) #Single qubit"
   ]
  },
  {
   "cell_type": "code",
   "execution_count": 4,
   "id": "66807b9f-3ae9-4947-a9ed-2edb60861210",
   "metadata": {},
   "outputs": [
    {
     "data": {
      "image/png": "[encoded data removed]",
      "text/plain": [
       "<Figure size 287.093x117.056 with 1 Axes>"
      ]
     },
     "execution_count": 4,
     "metadata": {},
     "output_type": "execute_result"
    }
   ],
   "source": [
    "\"\"\"\n",
    "U Gate: general single-qubit rotation gate with 3 Euler angles\n",
    "\"\"\"\n",
    "qc = QuantumCircuit(q)\n",
    "qc.u(pi/2,pi/4,pi/8,q)\n",
    "qc.draw('mpl')"
   ]
  },
  {
   "cell_type": "code",
   "execution_count": 5,
   "id": "22721b23-1818-425a-b3ee-8d377eeda180",
   "metadata": {},
   "outputs": [
    {
     "data": {
      "text/plain": [
       "array([[ 0.707+0.j   , -0.653-0.271j],\n",
       "       [ 0.5  +0.5j  ,  0.271+0.653j]])"
      ]
     },
     "execution_count": 5,
     "metadata": {},
     "output_type": "execute_result"
    }
   ],
   "source": [
    "job = backend.run(transpile(qc,backend))\n",
    "result = job.result().get_unitary(qc,decimals=3)\n",
    "result"
   ]
  },
  {
   "cell_type": "code",
   "execution_count": 6,
   "id": "deafe5f4-1934-4a3f-b55e-b80d9768915c",
   "metadata": {},
   "outputs": [
    {
     "data": {
      "image/png": "[encoded data removed]",
      "text/plain": [
       "<Figure size 203.481x117.056 with 1 Axes>"
      ]
     },
     "execution_count": 6,
     "metadata": {},
     "output_type": "execute_result"
    }
   ],
   "source": [
    "\"\"\"\n",
    "P Gate: phase gate with lambda = pi/2\n",
    "\"\"\"\n",
    "qc = QuantumCircuit(q)\n",
    "qc.p(pi/2,q)\n",
    "qc.draw('mpl')"
   ]
  },
  {
   "cell_type": "code",
   "execution_count": 7,
   "id": "feee32c5-b5e9-40ab-ad47-4ca8ae841b66",
   "metadata": {},
   "outputs": [
    {
     "data": {
      "text/plain": [
       "array([[1.+0.j, 0.+0.j],\n",
       "       [0.+0.j, 0.+1.j]])"
      ]
     },
     "execution_count": 7,
     "metadata": {},
     "output_type": "execute_result"
    }
   ],
   "source": [
    "job = backend.run(transpile(qc,backend))\n",
    "result = job.result().get_unitary(qc,decimals = 3)\n",
    "result"
   ]
  },
  {
   "cell_type": "code",
   "execution_count": 8,
   "id": "bde4613d-a9d3-43af-b542-2eafae0f1838",
   "metadata": {},
   "outputs": [
    {
     "data": {
      "image/png": "[encoded data removed]",
      "text/plain": [
       "<Figure size 203.481x117.056 with 1 Axes>"
      ]
     },
     "execution_count": 8,
     "metadata": {},
     "output_type": "execute_result"
    }
   ],
   "source": [
    "\"\"\"\n",
    "Identity Gate: Does nothing\n",
    "\"\"\"\n",
    "qc = QuantumCircuit(q)\n",
    "qc.id(q)\n",
    "qc.draw('mpl')"
   ]
  },
  {
   "cell_type": "code",
   "execution_count": 9,
   "id": "d1e7ae52-d85d-4ea4-ab29-9d1347c4af1c",
   "metadata": {},
   "outputs": [
    {
     "data": {
      "text/plain": [
       "array([[1.+0.j, 0.+0.j],\n",
       "       [0.+0.j, 1.+0.j]])"
      ]
     },
     "execution_count": 9,
     "metadata": {},
     "output_type": "execute_result"
    }
   ],
   "source": [
    "job = backend.run(transpile(qc,backend))\n",
    "result = job.result().get_unitary(qc,decimals = 3)\n",
    "result"
   ]
  },
  {
   "cell_type": "code",
   "execution_count": 18,
   "id": "b849456e-87d8-44c1-8ed9-26d54818b96a",
   "metadata": {},
   "outputs": [
    {
     "data": {
      "image/png": "[encoded data removed]",
      "text/plain": [
       "<Figure size 203.481x117.056 with 1 Axes>"
      ]
     },
     "execution_count": 18,
     "metadata": {},
     "output_type": "execute_result"
    }
   ],
   "source": [
    "\"\"\"\n",
    "Pauli Gates: X Gate\n",
    "\"\"\"\n",
    "qc = QuantumCircuit(q)\n",
    "qc.x(q)\n",
    "qc.draw('mpl')"
   ]
  },
  {
   "cell_type": "code",
   "execution_count": 19,
   "id": "dbcb9bd2-1087-4ee9-83a8-17b18dcb9e4b",
   "metadata": {},
   "outputs": [
    {
     "data": {
      "text/plain": [
       "array([[0.+0.j, 1.+0.j],\n",
       "       [1.+0.j, 0.+0.j]])"
      ]
     },
     "execution_count": 19,
     "metadata": {},
     "output_type": "execute_result"
    }
   ],
   "source": [
    "job = backend.run(transpile(qc,backend))\n",
    "job.result().get_unitary(decimals = 3)"
   ]
  },
  {
   "cell_type": "code",
   "execution_count": 15,
   "id": "e407fd85-c4b7-420a-b70d-6934dbbdb710",
   "metadata": {},
   "outputs": [
    {
     "data": {
      "image/png": "[encoded data removed]",
      "text/plain": [
       "<Figure size 203.481x117.056 with 1 Axes>"
      ]
     },
     "execution_count": 15,
     "metadata": {},
     "output_type": "execute_result"
    }
   ],
   "source": [
    "\"\"\"\n",
    "Pauli Gates: Y Gate\n",
    "\"\"\"\n",
    "qc = QuantumCircuit(q)\n",
    "qc.y(q)\n",
    "qc.draw('mpl')"
   ]
  },
  {
   "cell_type": "code",
   "execution_count": 16,
   "id": "9fd7e579-f4cd-4020-89bb-2ebd77ea97a5",
   "metadata": {},
   "outputs": [
    {
     "data": {
      "text/plain": [
       "array([[ 0.+0.j, -0.-1.j],\n",
       "       [ 0.+1.j,  0.+0.j]])"
      ]
     },
     "execution_count": 16,
     "metadata": {},
     "output_type": "execute_result"
    }
   ],
   "source": [
    "job = backend.run(transpile(qc,backend))\n",
    "job.result().get_unitary(decimals = 3)"
   ]
  },
  {
   "cell_type": "code",
   "execution_count": 13,
   "id": "eeb6557d-d298-4cfa-8ad2-d9c909abb3d2",
   "metadata": {},
   "outputs": [
    {
     "data": {
      "image/png": "[encoded data removed]",
      "text/plain": [
       "<Figure size 203.481x117.056 with 1 Axes>"
      ]
     },
     "execution_count": 13,
     "metadata": {},
     "output_type": "execute_result"
    }
   ],
   "source": [
    "\"\"\"\n",
    "Pauli Gates: Z Gate\n",
    "\"\"\"\n",
    "qc = QuantumCircuit(q)\n",
    "qc.z(q)\n",
    "qc.draw('mpl')"
   ]
  },
  {
   "cell_type": "code",
   "execution_count": 22,
   "id": "2e59ba53-e4b4-4453-81a4-af034addd573",
   "metadata": {},
   "outputs": [
    {
     "data": {
      "text/plain": [
       "array([[0.+0.j, 1.+0.j],\n",
       "       [1.+0.j, 0.+0.j]])"
      ]
     },
     "execution_count": 22,
     "metadata": {},
     "output_type": "execute_result"
    }
   ],
   "source": [
    "job = backend.run(transpile(qc,backend))\n",
    "job.result().get_unitary(decimals = 3)"
   ]
  },
  {
   "cell_type": "code",
   "execution_count": 23,
   "id": "98bdfe0f-6f03-4734-8650-4d8ba342d52e",
   "metadata": {},
   "outputs": [
    {
     "data": {
      "text/html": [
       "<pre style=\"word-wrap: normal;white-space: pre;background: #fff0;line-height: 1.1;font-family: &quot;Courier New&quot;,Courier,monospace\">    ┌───┐\n",
       "q0: ┤ H ├\n",
       "    └───┘</pre>"
      ],
      "text/plain": [
       "    ┌───┐\n",
       "q0: ┤ H ├\n",
       "    └───┘"
      ]
     },
     "execution_count": 23,
     "metadata": {},
     "output_type": "execute_result"
    }
   ],
   "source": [
    "\"\"\"\n",
    "Clifford Gates: Hadamard Gate\n",
    "\"\"\"\n",
    "qc = QuantumCircuit(q)\n",
    "qc.h(q)\n",
    "qc.draw('mpl')"
   ]
  },
  {
   "cell_type": "code",
   "execution_count": 24,
   "id": "45172451-5685-4eb7-82d6-dc641f80ca56",
   "metadata": {},
   "outputs": [
    {
     "data": {
      "text/plain": [
       "array([[ 0.707+0.j,  0.707-0.j],\n",
       "       [ 0.707+0.j, -0.707+0.j]])"
      ]
     },
     "execution_count": 24,
     "metadata": {},
     "output_type": "execute_result"
    }
   ],
   "source": [
    "job = backend.run(transpile(qc,backend))\n",
    "job.result().get_unitary(decimals = 3)"
   ]
  },
  {
   "cell_type": "code",
   "execution_count": 25,
   "id": "ade7a360-3075-4060-972e-fea2b4aababd",
   "metadata": {},
   "outputs": [
    {
     "data": {
      "image/png": "[encoded data removed]",
      "text/plain": [
       "<Figure size 203.481x117.056 with 1 Axes>"
      ]
     },
     "execution_count": 25,
     "metadata": {},
     "output_type": "execute_result"
    }
   ],
   "source": [
    "\"\"\"\n",
    "Cliford Gates: S Gate\n",
    "\"\"\"\n",
    "qc = QuantumCircuit(q)\n",
    "qc.s(q)\n",
    "qc.draw('mpl')"
   ]
  },
  {
   "cell_type": "code",
   "execution_count": 26,
   "id": "88701e04-c992-4e1e-a622-d1660698fbf4",
   "metadata": {},
   "outputs": [
    {
     "data": {
      "text/plain": [
       "array([[1.+0.j, 0.+0.j],\n",
       "       [0.+0.j, 0.+1.j]])"
      ]
     },
     "execution_count": 26,
     "metadata": {},
     "output_type": "execute_result"
    }
   ],
   "source": [
    "job = backend.run(transpile(qc,backend))\n",
    "job.result().get_unitary(decimals = 3)"
   ]
  },
  {
   "cell_type": "code",
   "execution_count": 27,
   "id": "6a0e996b-74d1-4128-9919-a030368fe876",
   "metadata": {},
   "outputs": [
    {
     "data": {
      "image/png": "[encoded data removed]",
      "text/plain": [
       "<Figure size 203.481x117.056 with 1 Axes>"
      ]
     },
     "execution_count": 27,
     "metadata": {},
     "output_type": "execute_result"
    }
   ],
   "source": [
    "\"\"\"\n",
    "Clifford Gates: S Conjugate Gate\n",
    "\"\"\"\n",
    "qc = QuantumCircuit(q)\n",
    "qc.sdg(q)\n",
    "qc.draw('mpl')"
   ]
  },
  {
   "cell_type": "code",
   "execution_count": 28,
   "id": "b8804d4e-0b12-4c2b-aaac-f5ba03bb5052",
   "metadata": {},
   "outputs": [
    {
     "data": {
      "text/plain": [
       "array([[1.+0.j, 0.+0.j],\n",
       "       [0.+0.j, 0.-1.j]])"
      ]
     },
     "execution_count": 28,
     "metadata": {},
     "output_type": "execute_result"
    }
   ],
   "source": [
    "job = backend.run(transpile(qc,backend))\n",
    "job.result().get_unitary(decimals = 3)"
   ]
  },
  {
   "cell_type": "code",
   "execution_count": 29,
   "id": "37e5aa0a-6bab-4252-970a-47903309915f",
   "metadata": {},
   "outputs": [
    {
     "data": {
      "image/png": "[encoded data removed]",
      "text/plain": [
       "<Figure size 203.481x117.056 with 1 Axes>"
      ]
     },
     "execution_count": 29,
     "metadata": {},
     "output_type": "execute_result"
    }
   ],
   "source": [
    "\"\"\"\n",
    "C3 Gates: T Gate\n",
    "\"\"\"\n",
    "qc = QuantumCircuit(q)\n",
    "qc.t(q)\n",
    "qc.draw('mpl')"
   ]
  },
  {
   "cell_type": "code",
   "execution_count": 30,
   "id": "83ddabd1-ce03-4d9c-a998-f515e8e11011",
   "metadata": {},
   "outputs": [
    {
     "data": {
      "text/plain": [
       "array([[1.   +0.j   , 0.   +0.j   ],\n",
       "       [0.   +0.j   , 0.707+0.707j]])"
      ]
     },
     "execution_count": 30,
     "metadata": {},
     "output_type": "execute_result"
    }
   ],
   "source": [
    "job = backend.run(transpile(qc,backend))\n",
    "job.result().get_unitary(decimals = 3)"
   ]
  },
  {
   "cell_type": "code",
   "execution_count": 31,
   "id": "ae8a387c-c1af-420c-823d-558e008c6ba6",
   "metadata": {},
   "outputs": [
    {
     "data": {
      "image/png": "[encoded data removed]",
      "text/plain": [
       "<Figure size 203.481x117.056 with 1 Axes>"
      ]
     },
     "execution_count": 31,
     "metadata": {},
     "output_type": "execute_result"
    }
   ],
   "source": [
    "\"\"\"\n",
    "C3 Gates: T Conjugate Gate\n",
    "\"\"\"\n",
    "qc = QuantumCircuit(q)\n",
    "qc.tdg(q)\n",
    "qc.draw('mpl')"
   ]
  },
  {
   "cell_type": "code",
   "execution_count": 32,
   "id": "cbfa1372-e737-437e-beb5-5ab97a746cc2",
   "metadata": {},
   "outputs": [
    {
     "data": {
      "text/plain": [
       "array([[1.   +0.j   , 0.   +0.j   ],\n",
       "       [0.   +0.j   , 0.707-0.707j]])"
      ]
     },
     "execution_count": 32,
     "metadata": {},
     "output_type": "execute_result"
    }
   ],
   "source": [
    "job = backend.run(transpile(qc,backend))\n",
    "job.result().get_unitary(decimals = 3)"
   ]
  },
  {
   "cell_type": "code",
   "execution_count": 33,
   "id": "87a4c66e-844c-4645-b225-6a9dd262bd13",
   "metadata": {},
   "outputs": [
    {
     "data": {
      "image/png": "[encoded data removed]",
      "text/plain": [
       "<Figure size 203.481x117.056 with 1 Axes>"
      ]
     },
     "execution_count": 33,
     "metadata": {},
     "output_type": "execute_result"
    }
   ],
   "source": [
    "\"\"\"\n",
    "Standard Rotations: X-Axis\n",
    "\"\"\"\n",
    "qc = QuantumCircuit(q)\n",
    "qc.rx(pi/2,q)\n",
    "qc.draw('mpl')"
   ]
  },
  {
   "cell_type": "code",
   "execution_count": 34,
   "id": "9011b32d-8d10-4cdf-aa60-f371ad5a7727",
   "metadata": {},
   "outputs": [
    {
     "data": {
      "text/plain": [
       "array([[ 0.707+0.j   , -0.   -0.707j],\n",
       "       [ 0.   -0.707j,  0.707+0.j   ]])"
      ]
     },
     "execution_count": 34,
     "metadata": {},
     "output_type": "execute_result"
    }
   ],
   "source": [
    "job = backend.run(transpile(qc,backend))\n",
    "job.result().get_unitary(decimals = 3)"
   ]
  },
  {
   "cell_type": "code",
   "execution_count": 35,
   "id": "0e32ea4c-9cd0-4667-a3aa-1bf447e894ad",
   "metadata": {},
   "outputs": [
    {
     "data": {
      "image/png": "[encoded data removed]",
      "text/plain": [
       "<Figure size 203.481x117.056 with 1 Axes>"
      ]
     },
     "execution_count": 35,
     "metadata": {},
     "output_type": "execute_result"
    }
   ],
   "source": [
    "\"\"\"\n",
    "Standard Rotations: Y-Axis\n",
    "\"\"\"\n",
    "qc = QuantumCircuit(q)\n",
    "qc.ry(pi/2,q)\n",
    "qc.draw('mpl')"
   ]
  },
  {
   "cell_type": "code",
   "execution_count": 36,
   "id": "56a9fb7a-b31c-4811-9ca8-1f50556f5a3f",
   "metadata": {},
   "outputs": [
    {
     "data": {
      "text/plain": [
       "array([[ 0.707+0.j, -0.707+0.j],\n",
       "       [ 0.707+0.j,  0.707+0.j]])"
      ]
     },
     "execution_count": 36,
     "metadata": {},
     "output_type": "execute_result"
    }
   ],
   "source": [
    "job = backend.run(transpile(qc,backend))\n",
    "job.result().get_unitary(decimals = 3)"
   ]
  },
  {
   "cell_type": "code",
   "execution_count": 37,
   "id": "420495e6-0c71-44f3-b12b-d933c1139a13",
   "metadata": {},
   "outputs": [
    {
     "data": {
      "image/png": "[encoded data removed]",
      "text/plain": [
       "<Figure size 203.481x117.056 with 1 Axes>"
      ]
     },
     "execution_count": 37,
     "metadata": {},
     "output_type": "execute_result"
    }
   ],
   "source": [
    "\"\"\"\n",
    "Standard Rotations: Z-Axis\n",
    "\"\"\"\n",
    "qc = QuantumCircuit(q)\n",
    "qc.rz(pi/2,q)\n",
    "qc.draw('mpl')"
   ]
  },
  {
   "cell_type": "code",
   "execution_count": 38,
   "id": "83b8edd1-d9e9-4982-8043-9e42e13ae6cd",
   "metadata": {},
   "outputs": [
    {
     "data": {
      "text/plain": [
       "array([[0.707-0.707j, 0.   +0.j   ],\n",
       "       [0.   +0.j   , 0.707+0.707j]])"
      ]
     },
     "execution_count": 38,
     "metadata": {},
     "output_type": "execute_result"
    }
   ],
   "source": [
    "job = backend.run(transpile(qc,backend))\n",
    "job.result().get_unitary(decimals = 3)"
   ]
  },
  {
   "cell_type": "code",
   "execution_count": 42,
   "id": "fdc94043-962a-448d-bad5-a173b4a48b8a",
   "metadata": {},
   "outputs": [
    {
     "data": {
      "image/png": "[encoded data removed]",
      "text/plain": [
       "<Figure size 240.346x200.667 with 1 Axes>"
      ]
     },
     "execution_count": 42,
     "metadata": {},
     "output_type": "execute_result"
    }
   ],
   "source": [
    "\"\"\"\n",
    "Multi-Qubit Gates: CX\n",
    "\"\"\"\n",
    "q= QuantumRegister(2)\n",
    "qc = QuantumCircuit(q)\n",
    "qc.cx(q[0],q[1])\n",
    "qc.draw('mpl')"
   ]
  },
  {
   "cell_type": "code",
   "execution_count": 43,
   "id": "523df770-4a9d-44ee-9639-45328ef07c7a",
   "metadata": {},
   "outputs": [
    {
     "data": {
      "text/plain": [
       "array([[1.+0.j, 0.+0.j, 0.+0.j, 0.+0.j],\n",
       "       [0.+0.j, 0.+0.j, 0.+0.j, 1.+0.j],\n",
       "       [0.+0.j, 0.+0.j, 1.+0.j, 0.+0.j],\n",
       "       [0.+0.j, 1.+0.j, 0.+0.j, 0.+0.j]])"
      ]
     },
     "execution_count": 43,
     "metadata": {},
     "output_type": "execute_result"
    }
   ],
   "source": [
    "job = backend.run(transpile(qc,backend))\n",
    "job.result().get_unitary(decimals = 3)"
   ]
  },
  {
   "cell_type": "code",
   "execution_count": 44,
   "id": "7d66314b-58b0-4503-8874-cd7c2cd73cb8",
   "metadata": {},
   "outputs": [
    {
     "data": {
      "image/png": "[encoded data removed]",
      "text/plain": [
       "<Figure size 240.548x200.667 with 1 Axes>"
      ]
     },
     "execution_count": 44,
     "metadata": {},
     "output_type": "execute_result"
    }
   ],
   "source": [
    "\"\"\"\n",
    "Multi-Qubit Gates: CY\n",
    "\"\"\"\n",
    "q= QuantumRegister(2)\n",
    "qc = QuantumCircuit(q)\n",
    "qc.cy(q[0],q[1])\n",
    "qc.draw('mpl')"
   ]
  },
  {
   "cell_type": "code",
   "execution_count": 45,
   "id": "43ddfba2-357d-4706-90d1-c7cb6916aff1",
   "metadata": {},
   "outputs": [
    {
     "data": {
      "text/plain": [
       "array([[1.+0.j, 0.+0.j, 0.+0.j, 0.+0.j],\n",
       "       [0.+0.j, 0.+0.j, 0.+0.j, 0.-1.j],\n",
       "       [0.+0.j, 0.+0.j, 1.+0.j, 0.+0.j],\n",
       "       [0.+0.j, 0.+1.j, 0.+0.j, 0.+0.j]])"
      ]
     },
     "execution_count": 45,
     "metadata": {},
     "output_type": "execute_result"
    }
   ],
   "source": [
    "job = backend.run(transpile(qc,backend))\n",
    "job.result().get_unitary(decimals = 3)"
   ]
  },
  {
   "cell_type": "code",
   "execution_count": 46,
   "id": "cb26e96a-efa9-47b9-a497-30e1cfcf809e",
   "metadata": {},
   "outputs": [
    {
     "data": {
      "image/png": "[encoded data removed]",
      "text/plain": [
       "<Figure size 240.548x200.667 with 1 Axes>"
      ]
     },
     "execution_count": 46,
     "metadata": {},
     "output_type": "execute_result"
    }
   ],
   "source": [
    "\"\"\"\n",
    "Multi-Qubit Gates: CZ\n",
    "\"\"\"\n",
    "q= QuantumRegister(2)\n",
    "qc = QuantumCircuit(q)\n",
    "qc.cz(q[0],q[1])\n",
    "qc.draw('mpl')"
   ]
  },
  {
   "cell_type": "code",
   "execution_count": 47,
   "id": "b8e1ac80-3575-41cd-abd8-cd663ff15af7",
   "metadata": {},
   "outputs": [
    {
     "data": {
      "text/plain": [
       "array([[ 1.-0.j,  0.+0.j,  0.+0.j,  0.+0.j],\n",
       "       [ 0.+0.j,  1.-0.j,  0.+0.j,  0.+0.j],\n",
       "       [ 0.+0.j,  0.+0.j,  1.-0.j,  0.+0.j],\n",
       "       [ 0.+0.j,  0.+0.j,  0.+0.j, -1.+0.j]])"
      ]
     },
     "execution_count": 47,
     "metadata": {},
     "output_type": "execute_result"
    }
   ],
   "source": [
    "job = backend.run(transpile(qc,backend))\n",
    "job.result().get_unitary(decimals = 3)"
   ]
  },
  {
   "cell_type": "code",
   "execution_count": 48,
   "id": "e9823876-7893-4b91-abd6-2bb5d8c5a120",
   "metadata": {},
   "outputs": [
    {
     "data": {
      "image/png": "[encoded data removed]",
      "text/plain": [
       "<Figure size 240.548x200.667 with 1 Axes>"
      ]
     },
     "execution_count": 48,
     "metadata": {},
     "output_type": "execute_result"
    }
   ],
   "source": [
    "\"\"\"\n",
    "Multi-Qubit Gates: C-Hadamard\n",
    "\"\"\"\n",
    "q= QuantumRegister(2)\n",
    "qc = QuantumCircuit(q)\n",
    "qc.ch(q[0],q[1])\n",
    "qc.draw('mpl')"
   ]
  },
  {
   "cell_type": "code",
   "execution_count": 49,
   "id": "09dd43fd-53c7-4c84-96e2-8bebbc3d5c30",
   "metadata": {},
   "outputs": [
    {
     "data": {
      "text/plain": [
       "array([[ 1.   +0.j,  0.   +0.j,  0.   +0.j,  0.   +0.j],\n",
       "       [ 0.   +0.j,  0.707+0.j,  0.   +0.j,  0.707-0.j],\n",
       "       [ 0.   +0.j,  0.   +0.j,  1.   -0.j,  0.   +0.j],\n",
       "       [ 0.   +0.j,  0.707+0.j,  0.   +0.j, -0.707+0.j]])"
      ]
     },
     "execution_count": 49,
     "metadata": {},
     "output_type": "execute_result"
    }
   ],
   "source": [
    "job = backend.run(transpile(qc,backend))\n",
    "job.result().get_unitary(decimals = 3)"
   ]
  },
  {
   "cell_type": "code",
   "execution_count": 52,
   "id": "cccdb1b9-47c2-40cb-b602-548809e1a1ce",
   "metadata": {},
   "outputs": [
    {
     "data": {
      "image/png": "[encoded data removed]",
      "text/plain": [
       "<Figure size 240.548x200.667 with 1 Axes>"
      ]
     },
     "execution_count": 52,
     "metadata": {},
     "output_type": "execute_result"
    }
   ],
   "source": [
    "\"\"\"\n",
    "Controlled Rotation Gates: Around Z Axis\n",
    "- Perform rotation around the Z-axis on the target qubit if the control is in |1>\n",
    "\"\"\"\n",
    "qc = QuantumCircuit(q)\n",
    "qc.crz(pi/2,q[0],q[1])\n",
    "qc.draw('mpl')"
   ]
  },
  {
   "cell_type": "code",
   "execution_count": 51,
   "id": "7a442c93-11db-4709-9940-d22eb7e7d024",
   "metadata": {},
   "outputs": [
    {
     "data": {
      "text/plain": [
       "array([[1.   +0.j   , 0.   +0.j   , 0.   +0.j   , 0.   +0.j   ],\n",
       "       [0.   +0.j   , 0.707-0.707j, 0.   +0.j   , 0.   +0.j   ],\n",
       "       [0.   +0.j   , 0.   +0.j   , 1.   +0.j   , 0.   +0.j   ],\n",
       "       [0.   +0.j   , 0.   +0.j   , 0.   +0.j   , 0.707+0.707j]])"
      ]
     },
     "execution_count": 51,
     "metadata": {},
     "output_type": "execute_result"
    }
   ],
   "source": [
    "job = backend.run(transpile(qc,backend))\n",
    "job.result().get_unitary(decimals = 3)"
   ]
  },
  {
   "cell_type": "code",
   "execution_count": 59,
   "id": "05259fda-583b-45b9-ac7a-31c5d2474a32",
   "metadata": {},
   "outputs": [
    {
     "data": {
      "image/png": "[encoded data removed]",
      "text/plain": [
       "<Figure size 324.159x200.667 with 1 Axes>"
      ]
     },
     "execution_count": 59,
     "metadata": {},
     "output_type": "execute_result"
    }
   ],
   "source": [
    "\"\"\"\n",
    "Controled Rotation Gates: Controlled phase rotation\n",
    "- Perform a phase rotation if both qubits are in the |11> state\n",
    "\"\"\"\n",
    "qc = QuantumCircuit(q)\n",
    "qc.cp(pi/2,q[0],q[1])\n",
    "qc.draw('mpl')"
   ]
  },
  {
   "cell_type": "code",
   "execution_count": 60,
   "id": "cdaf23e5-4a5b-48c3-b8eb-1200f067c18d",
   "metadata": {},
   "outputs": [
    {
     "data": {
      "text/plain": [
       "array([[1.+0.j, 0.+0.j, 0.+0.j, 0.+0.j],\n",
       "       [0.+0.j, 1.+0.j, 0.+0.j, 0.+0.j],\n",
       "       [0.+0.j, 0.+0.j, 1.+0.j, 0.+0.j],\n",
       "       [0.+0.j, 0.+0.j, 0.+0.j, 0.+1.j]])"
      ]
     },
     "execution_count": 60,
     "metadata": {},
     "output_type": "execute_result"
    }
   ],
   "source": [
    "job = backend.run(transpile(qc,backend))\n",
    "job.result().get_unitary(decimals = 3)"
   ]
  },
  {
   "cell_type": "code",
   "execution_count": 67,
   "id": "bb7cccb1-4f2e-4074-80e1-4c38bd71d6db",
   "metadata": {},
   "outputs": [
    {
     "data": {
      "image/png": "[encoded data removed]",
      "text/plain": [
       "<Figure size 324.159x200.667 with 1 Axes>"
      ]
     },
     "execution_count": 67,
     "metadata": {},
     "output_type": "execute_result"
    }
   ],
   "source": [
    "\"\"\"\n",
    "Controlled Rotation Gates: Controlled u rotation\n",
    "- Perform controlled u rotation on target qubit if the contrrl qubit is |1>\n",
    "\"\"\"\n",
    "qc = QuantumCircuit(q)\n",
    "qc.cu(pi/2,pi/2,pi/2,0,q[0],q[1])\n",
    "qc.draw('mpl')"
   ]
  },
  {
   "cell_type": "code",
   "execution_count": 68,
   "id": "37eb800b-b95c-4ad6-a0bc-59bf72ed1572",
   "metadata": {},
   "outputs": [
    {
     "data": {
      "text/plain": [
       "array([[ 1.   +0.j   ,  0.   +0.j   ,  0.   +0.j   ,  0.   +0.j   ],\n",
       "       [ 0.   +0.j   ,  0.707+0.j   ,  0.   +0.j   , -0.   -0.707j],\n",
       "       [ 0.   +0.j   ,  0.   +0.j   ,  1.   +0.j   ,  0.   +0.j   ],\n",
       "       [ 0.   +0.j   ,  0.   +0.707j,  0.   +0.j   , -0.707+0.j   ]])"
      ]
     },
     "execution_count": 68,
     "metadata": {},
     "output_type": "execute_result"
    }
   ],
   "source": [
    "job = backend.run(transpile(qc,backend))\n",
    "job.result().get_unitary(decimals = 3)"
   ]
  },
  {
   "cell_type": "code",
   "execution_count": 69,
   "id": "b66ffaf0-0bc4-47ee-a3d6-c3236eba8f7e",
   "metadata": {},
   "outputs": [
    {
     "data": {
      "image/png": "[encoded data removed]",
      "text/plain": [
       "<Figure size 240.548x200.667 with 1 Axes>"
      ]
     },
     "execution_count": 69,
     "metadata": {},
     "output_type": "execute_result"
    }
   ],
   "source": [
    "\"\"\"\n",
    "Controlled Rotation Gates: SWAP Gate\n",
    "\"\"\"\n",
    "qc = QuantumCircuit(q)\n",
    "qc.swap(q[0],q[1])\n",
    "qc.draw('mpl')"
   ]
  },
  {
   "cell_type": "code",
   "execution_count": 70,
   "id": "bda9b534-b1fa-437a-8720-6442331ce90b",
   "metadata": {},
   "outputs": [
    {
     "data": {
      "text/plain": [
       "array([[1.+0.j, 0.+0.j, 0.+0.j, 0.+0.j],\n",
       "       [0.+0.j, 0.+0.j, 1.+0.j, 0.+0.j],\n",
       "       [0.+0.j, 1.+0.j, 0.+0.j, 0.+0.j],\n",
       "       [0.+0.j, 0.+0.j, 0.+0.j, 1.+0.j]])"
      ]
     },
     "execution_count": 70,
     "metadata": {},
     "output_type": "execute_result"
    }
   ],
   "source": [
    "job = backend.run(transpile(qc,backend))\n",
    "job.result().get_unitary(decimals = 3)"
   ]
  },
  {
   "cell_type": "code",
   "execution_count": 71,
   "id": "4270ebd7-222b-48b1-a15f-4600e0154df4",
   "metadata": {},
   "outputs": [
    {
     "data": {
      "image/png": "[encoded data removed]",
      "text/plain": [
       "<Figure size 240.75x284.278 with 1 Axes>"
      ]
     },
     "execution_count": 71,
     "metadata": {},
     "output_type": "execute_result"
    }
   ],
   "source": [
    "\"\"\"\n",
    "Three-Qubit Gates: Toffoli Gate\n",
    "\"\"\"\n",
    "q = QuantumRegister(3)\n",
    "qc = QuantumCircuit(q)\n",
    "qc.ccx(q[0],q[1],q[2])\n",
    "qc.draw('mpl')"
   ]
  },
  {
   "cell_type": "code",
   "execution_count": 72,
   "id": "18bb675e-b416-47cb-a4fd-40a01a0a1a33",
   "metadata": {},
   "outputs": [
    {
     "data": {
      "text/plain": [
       "array([[1.+0.j, 0.+0.j, 0.+0.j, 0.+0.j, 0.+0.j, 0.+0.j, 0.+0.j, 0.+0.j],\n",
       "       [0.+0.j, 1.+0.j, 0.+0.j, 0.+0.j, 0.+0.j, 0.+0.j, 0.+0.j, 0.+0.j],\n",
       "       [0.+0.j, 0.+0.j, 1.+0.j, 0.+0.j, 0.+0.j, 0.+0.j, 0.+0.j, 0.+0.j],\n",
       "       [0.+0.j, 0.+0.j, 0.+0.j, 0.+0.j, 0.+0.j, 0.+0.j, 0.+0.j, 1.-0.j],\n",
       "       [0.+0.j, 0.+0.j, 0.+0.j, 0.+0.j, 1.-0.j, 0.+0.j, 0.+0.j, 0.+0.j],\n",
       "       [0.+0.j, 0.+0.j, 0.+0.j, 0.+0.j, 0.+0.j, 1.-0.j, 0.+0.j, 0.+0.j],\n",
       "       [0.+0.j, 0.+0.j, 0.+0.j, 0.+0.j, 0.+0.j, 0.+0.j, 1.-0.j, 0.+0.j],\n",
       "       [0.+0.j, 0.+0.j, 0.+0.j, 1.+0.j, 0.+0.j, 0.+0.j, 0.+0.j, 0.+0.j]])"
      ]
     },
     "execution_count": 72,
     "metadata": {},
     "output_type": "execute_result"
    }
   ],
   "source": [
    "job = backend.run(transpile(qc,backend))\n",
    "job.result().get_unitary(decimals = 3)"
   ]
  },
  {
   "cell_type": "code",
   "execution_count": 74,
   "id": "443e82b8-68e4-4edd-9ed0-044f119d5412",
   "metadata": {},
   "outputs": [
    {
     "data": {
      "image/png": "[encoded data removed]",
      "text/plain": [
       "<Figure size 240.75x284.278 with 1 Axes>"
      ]
     },
     "execution_count": 74,
     "metadata": {},
     "output_type": "execute_result"
    }
   ],
   "source": [
    "\"\"\"\n",
    "Three-Qubit Gates: Controlled Swap (Fredkin) Gate\n",
    "\"\"\"\n",
    "qc = QuantumCircuit(q)\n",
    "qc.cswap(q[0],q[1],q[2])\n",
    "qc.draw('mpl')"
   ]
  },
  {
   "cell_type": "code",
   "execution_count": 76,
   "id": "e106b9ec-3b32-44f6-8539-b6cbedc01c76",
   "metadata": {},
   "outputs": [
    {
     "data": {
      "text/plain": [
       "array([[1.+0.j, 0.+0.j, 0.+0.j, 0.+0.j, 0.+0.j, 0.+0.j, 0.+0.j, 0.+0.j],\n",
       "       [0.+0.j, 1.+0.j, 0.+0.j, 0.+0.j, 0.+0.j, 0.+0.j, 0.+0.j, 0.+0.j],\n",
       "       [0.+0.j, 0.+0.j, 1.+0.j, 0.+0.j, 0.+0.j, 0.+0.j, 0.+0.j, 0.+0.j],\n",
       "       [0.+0.j, 0.+0.j, 0.+0.j, 0.+0.j, 0.+0.j, 1.-0.j, 0.+0.j, 0.+0.j],\n",
       "       [0.+0.j, 0.+0.j, 0.+0.j, 0.+0.j, 1.-0.j, 0.+0.j, 0.+0.j, 0.+0.j],\n",
       "       [0.+0.j, 0.+0.j, 0.+0.j, 1.+0.j, 0.+0.j, 0.+0.j, 0.+0.j, 0.+0.j],\n",
       "       [0.+0.j, 0.+0.j, 0.+0.j, 0.+0.j, 0.+0.j, 0.+0.j, 1.-0.j, 0.+0.j],\n",
       "       [0.+0.j, 0.+0.j, 0.+0.j, 0.+0.j, 0.+0.j, 0.+0.j, 0.+0.j, 1.-0.j]])"
      ]
     },
     "execution_count": 76,
     "metadata": {},
     "output_type": "execute_result"
    }
   ],
   "source": [
    "job = backend.run(transpile(qc,backend))\n",
    "job.result().get_unitary(decimals = 3)"
   ]
  },
  {
   "cell_type": "code",
   "execution_count": 77,
   "id": "a78225f7-dcc4-4eca-b865-f9c1209d9833",
   "metadata": {},
   "outputs": [
    {
     "data": {
      "image/png": "[encoded data removed]",
      "text/plain": [
       "<Figure size 222.116x200.667 with 1 Axes>"
      ]
     },
     "execution_count": 77,
     "metadata": {},
     "output_type": "execute_result"
    }
   ],
   "source": [
    "\"\"\"\n",
    "Non-Unitary Operations: Measurements\n",
    "\"\"\"\n",
    "q = QuantumRegister(1)\n",
    "c = ClassicalRegister(1)\n",
    "\n",
    "qc = QuantumCircuit(q,c)\n",
    "qc.measure(q,c)\n",
    "qc.draw('mpl')"
   ]
  },
  {
   "cell_type": "code",
   "execution_count": 83,
   "id": "d1c7085b-1c47-400e-bab9-ddf4f37534a9",
   "metadata": {},
   "outputs": [
    {
     "data": {
      "text/plain": [
       "{'0': 1024}"
      ]
     },
     "execution_count": 83,
     "metadata": {},
     "output_type": "execute_result"
    }
   ],
   "source": [
    "backend = BasicAer.get_backend('qasm_simulator')\n",
    "job = backend.run(transpile(qc,backend))\n",
    "job.result().get_counts()"
   ]
  },
  {
   "cell_type": "code",
   "execution_count": 84,
   "id": "8bf896fd-dbac-4ef8-8acf-42e81b13caf1",
   "metadata": {},
   "outputs": [
    {
     "data": {
      "image/png": "[encoded data removed]",
      "text/plain": [
       "<Figure size 305.727x200.667 with 1 Axes>"
      ]
     },
     "execution_count": 84,
     "metadata": {},
     "output_type": "execute_result"
    }
   ],
   "source": [
    "qc = QuantumCircuit(q,c)\n",
    "qc.h(q)\n",
    "qc.measure(q,c)\n",
    "qc.draw('mpl')"
   ]
  },
  {
   "cell_type": "code",
   "execution_count": 99,
   "id": "bfb1a07d-4c0f-4577-95ff-804388a8533c",
   "metadata": {},
   "outputs": [
    {
     "data": {
      "text/plain": [
       "{'1': 109, '0': 91}"
      ]
     },
     "execution_count": 99,
     "metadata": {},
     "output_type": "execute_result"
    }
   ],
   "source": [
    "job = backend.run(transpile(qc,backend),shots =200)\n",
    "job.result().get_counts(qc)"
   ]
  },
  {
   "cell_type": "code",
   "execution_count": 101,
   "id": "6465ae29-911f-40ea-8103-feb749329e59",
   "metadata": {},
   "outputs": [
    {
     "data": {
      "image/png": "[encoded data removed]",
      "text/plain": [
       "<Figure size 389.338x200.667 with 1 Axes>"
      ]
     },
     "execution_count": 101,
     "metadata": {},
     "output_type": "execute_result"
    }
   ],
   "source": [
    "\"\"\"\n",
    "Non-Unitary Operations: Reset\n",
    "\"\"\"\n",
    "qc = QuantumCircuit(q,c)\n",
    "qc.h(q[0])\n",
    "qc.reset(q[0])\n",
    "qc.measure(q,c)\n",
    "qc.draw('mpl')"
   ]
  },
  {
   "cell_type": "code",
   "execution_count": 102,
   "id": "457f1571-a8fd-4cff-8a32-ae12c109456c",
   "metadata": {},
   "outputs": [
    {
     "data": {
      "text/plain": [
       "{'0': 1024}"
      ]
     },
     "execution_count": 102,
     "metadata": {},
     "output_type": "execute_result"
    }
   ],
   "source": [
    "job = backend.run(transpile(qc,backend))\n",
    "job.result().get_counts()"
   ]
  },
  {
   "cell_type": "code",
   "execution_count": 114,
   "id": "01bb1b92-39ac-4886-915c-0e5d0afa65fc",
   "metadata": {},
   "outputs": [
    {
     "data": {
      "image/png": "[encoded data removed]",
      "text/plain": [
       "<Figure size 472.949x200.667 with 1 Axes>"
      ]
     },
     "execution_count": 114,
     "metadata": {},
     "output_type": "execute_result"
    }
   ],
   "source": [
    "\"\"\"\n",
    "Conditional Operations\n",
    "- Do operations conditioned on the state of the CLASSICAL register\n",
    "\"\"\"\n",
    "qc = QuantumCircuit(q,c)\n",
    "qc.h(q)\n",
    "qc.measure(q,c)\n",
    "qc.x(q[0]).c_if(c,0) #If classical register has value 0, perform the controlled operation\n",
    "qc.measure(q,c)\n",
    "qc.draw('mpl')"
   ]
  },
  {
   "cell_type": "code",
   "execution_count": 115,
   "id": "b6b909b4-602a-4b56-b066-32ab846cf084",
   "metadata": {},
   "outputs": [
    {
     "data": {
      "text/plain": [
       "{'1': 1024}"
      ]
     },
     "execution_count": 115,
     "metadata": {},
     "output_type": "execute_result"
    }
   ],
   "source": [
    "job = backend.run(transpile(qc,backend))\n",
    "job.result().get_counts()"
   ]
  },
  {
   "cell_type": "code",
   "execution_count": 120,
   "id": "62d59892-3340-4cc7-b9f5-f834ad6c918f",
   "metadata": {},
   "outputs": [
    {
     "data": {
      "image/png": "[encoded data removed]",
      "text/plain": [
       "<Figure size 658.806x284.278 with 1 Axes>"
      ]
     },
     "execution_count": 120,
     "metadata": {},
     "output_type": "execute_result"
    }
   ],
   "source": [
    "\"\"\"\n",
    "Arbitrary Initialization\n",
    "\"\"\"\n",
    "from math import sqrt\n",
    "desired_vector = [(1/4)*complex(0,1),\n",
    "                  (1/sqrt(8))*complex(1,0),\n",
    "                  (1/4)*complex(1,1),\n",
    "                  0,\n",
    "                  0,\n",
    "                  (1/sqrt(8))*complex(1,2),\n",
    "                  (1/4)*complex(1,0),\n",
    "                  0]\n",
    "q = QuantumRegister(3)\n",
    "qc = QuantumCircuit(q)\n",
    "qc.initialize(desired_vector,[q[0],q[1],q[2]])\n",
    "qc.draw('mpl')"
   ]
  },
  {
   "cell_type": "code",
   "execution_count": 124,
   "id": "a9478213-71a9-4add-a048-3a9832d282e5",
   "metadata": {},
   "outputs": [
    {
     "data": {
      "text/plain": [
       "array([1.66533454e-16+2.50000000e-01j, 3.53553391e-01-5.55111512e-17j,\n",
       "       2.50000000e-01+2.50000000e-01j, 0.00000000e+00+0.00000000e+00j,\n",
       "       0.00000000e+00+0.00000000e+00j, 3.53553391e-01+7.07106781e-01j,\n",
       "       2.50000000e-01-9.02056208e-17j, 0.00000000e+00+0.00000000e+00j])"
      ]
     },
     "execution_count": 124,
     "metadata": {},
     "output_type": "execute_result"
    }
   ],
   "source": [
    "backend = BasicAer.get_backend('statevector_simulator')\n",
    "job = backend.run(transpile(qc,backend))\n",
    "qc_state = job.result().get_statevector(qc)\n",
    "qc_state"
   ]
  },
  {
   "cell_type": "code",
   "execution_count": 127,
   "id": "1b39b3af-c800-4660-9a78-8a29bed64f6a",
   "metadata": {},
   "outputs": [
    {
     "data": {
      "text/plain": [
       "1.0000000000000004"
      ]
     },
     "execution_count": 127,
     "metadata": {},
     "output_type": "execute_result"
    }
   ],
   "source": [
    "\"\"\"\n",
    "Fidelity: Useful to check whether two states are the same or not\n",
    "\"\"\"\n",
    "state_fidelity(desired_vector,qc_state)"
   ]
  },
  {
   "cell_type": "code",
   "execution_count": 129,
   "id": "6fd242bf-5556-43cf-b56d-e7a9876af52a",
   "metadata": {},
   "outputs": [
    {
     "data": {
      "image/png": "[encoded data removed]",
      "text/plain": [
       "<Figure size 407.972x284.278 with 1 Axes>"
      ]
     },
     "execution_count": 129,
     "metadata": {},
     "output_type": "execute_result"
    }
   ],
   "source": [
    "new_vector = [1/sqrt(2),\n",
    "              0,\n",
    "              0,\n",
    "              0,\n",
    "              0,\n",
    "              0,\n",
    "              0,\n",
    "              1/sqrt(2)]\n",
    "qc = QuantumCircuit(q)\n",
    "qc.initialize(new_vector,[q[0],q[1],q[2]])\n",
    "qc.draw('mpl')"
   ]
  },
  {
   "cell_type": "code",
   "execution_count": null,
   "id": "516dcbd2-efac-4d0b-9861-d610e96b6fdd",
   "metadata": {},
   "outputs": [],
   "source": []
  }
 ],
 "metadata": {
  "kernelspec": {
   "display_name": "Python 3 (ipykernel)",
   "language": "python",
   "name": "python3"
  },
  "language_info": {
   "codemirror_mode": {
    "name": "ipython",
    "version": 3
   },
   "file_extension": ".py",
   "mimetype": "text/x-python",
   "name": "python",
   "nbconvert_exporter": "python",
   "pygments_lexer": "ipython3",
   "version": "3.11.1"
  }
 },
 "nbformat": 4,
 "nbformat_minor": 5
}
